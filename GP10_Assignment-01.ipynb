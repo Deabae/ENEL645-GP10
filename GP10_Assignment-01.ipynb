{
  "cells": [
    {
      "cell_type": "markdown",
      "metadata": {
        "id": "163nK-Aq7qnP"
      },
      "source": [
        "# Assignment #01\n",
        "\n",
        "This assignment is composed of multiple Python and NumPy programming exercises. The deliverable of this assignment is this jupyter-notebook completed with your solution.\n",
        "\n",
        "The delivery instructions are the following:\n",
        "    - Create a GitHub repository for your team. You are free to choose its name. This repository will be used to delvier the programming assignments and the code of your team's final project.\n",
        "    - Create a folder assignment-01 in the repository. Put the jupyter-notebook with your solution in this repository and post the repository link in your team's D2L dropbox for the assignment.\n",
        "\n",
        "You are being assessed based on:\n",
        "\n",
        "1. Code execution - 25% \n",
        "2. Clarity of the code (e.g., easy to follow, has pertinent comments, etc.) - 25%\n",
        "3. Proper usage of the techniques seen in class - 25%\n",
        "    - remember to avoid explicit Python loops!  \n",
        "4. Quality and correcteness of the results - 25%\n",
        "\n",
        "More details about the assessment are available in the rubric document in the class GitHub repository.\n",
        "\n",
        "Points distribution:\n",
        "- Question 2-21: 3 points per question \n",
        "- Questions 22-26: 8 points per question (total 40)\n",
        "- Total: 100 ponits"
      ],
      "id": "163nK-Aq7qnP"
    },
    {
      "cell_type": "code",
      "execution_count": 1,
      "metadata": {
        "id": "qiLjxltp7qnc"
      },
      "outputs": [],
      "source": [
        "#Group Members:\n",
        "#1 Amir Hassaniazar ***\n",
        "#2 Arash Vahedi ***\n",
        "#3 Fatemeh Ebrahimi ***\n",
        "#4 Hirbod Salari ***\n",
        "#5 Rashad Mohammed ***\n",
        "#6 Reza Deabae Shishavan ***\n",
        "\n",
        "import matplotlib.pylab as plt\n"
      ],
      "id": "qiLjxltp7qnc"
    },
    {
      "cell_type": "markdown",
      "metadata": {
        "id": "oKyg-ojQ7qne"
      },
      "source": [
        "**1. Import the numpy package under the name np**"
      ],
      "id": "oKyg-ojQ7qne"
    },
    {
      "cell_type": "code",
      "execution_count": 2,
      "metadata": {
        "id": "QOaoK08D7qnf"
      },
      "outputs": [],
      "source": [
        "import numpy as np"
      ],
      "id": "QOaoK08D7qnf"
    },
    {
      "cell_type": "markdown",
      "metadata": {
        "id": "lzq0Oijj7qnk"
      },
      "source": [
        "**2. Print the numpy version and the configuration**"
      ],
      "id": "lzq0Oijj7qnk"
    },
    {
      "cell_type": "code",
      "execution_count": null,
      "metadata": {
        "id": "s7cdsHNu7qnl",
        "colab": {
          "base_uri": "https://localhost:8080/"
        },
        "outputId": "bb1088c6-f4ec-4a0d-b5a1-cfc1282dbd72"
      },
      "outputs": [
        {
          "output_type": "stream",
          "name": "stdout",
          "text": [
            "1.19.5\n",
            "<function show at 0x7fe7ea5fbe60>\n"
          ]
        }
      ],
      "source": [
        "print(np.__version__)\n",
        "print(np.show_config)\n"
      ],
      "id": "s7cdsHNu7qnl"
    },
    {
      "cell_type": "markdown",
      "metadata": {
        "id": "eQFeKctk7qnm"
      },
      "source": [
        "**3. Create a 1D array of zeros of size 10 of type float32**"
      ],
      "id": "eQFeKctk7qnm"
    },
    {
      "cell_type": "code",
      "execution_count": null,
      "metadata": {
        "id": "VjQMjL8c7qnn",
        "colab": {
          "base_uri": "https://localhost:8080/"
        },
        "outputId": "a4ba899b-dafe-4748-90a9-b840fdb77b2a"
      },
      "outputs": [
        {
          "output_type": "stream",
          "name": "stdout",
          "text": [
            "[0. 0. 0. 0. 0. 0. 0. 0. 0. 0.]\n"
          ]
        }
      ],
      "source": [
        "\n",
        "x = np.zeros((10,), dtype = np.float32)\n",
        "print (x)\n",
        "\n",
        "\n"
      ],
      "id": "VjQMjL8c7qnn"
    },
    {
      "cell_type": "markdown",
      "metadata": {
        "id": "6SEUTHEI7qnn"
      },
      "source": [
        "**4. Print the memory size of the array below**"
      ],
      "id": "6SEUTHEI7qnn"
    },
    {
      "cell_type": "code",
      "execution_count": null,
      "metadata": {
        "id": "MSp8RKdn7qno",
        "colab": {
          "base_uri": "https://localhost:8080/"
        },
        "outputId": "bf5b3fe3-4c0e-4545-8d7d-3ffc12f8c2ec"
      },
      "outputs": [
        {
          "output_type": "stream",
          "name": "stdout",
          "text": [
            "3072\n"
          ]
        }
      ],
      "source": [
        "Z = np.zeros((32,12))\n",
        "# Include your solution below\n",
        "print( Z.size * Z.itemsize) \n",
        "# numpy itemsize returns Length of one array element in bytes "
      ],
      "id": "MSp8RKdn7qno"
    },
    {
      "cell_type": "markdown",
      "metadata": {
        "id": "G_5PGICN7qnp"
      },
      "source": [
        "**5. Create a 1D array with values ranging from 10 to 58**"
      ],
      "id": "G_5PGICN7qnp"
    },
    {
      "cell_type": "code",
      "execution_count": null,
      "metadata": {
        "id": "LvY2mw3g7qnq",
        "colab": {
          "base_uri": "https://localhost:8080/"
        },
        "outputId": "4ab115fb-c1a3-422b-c89f-3f8ef6179a7f"
      },
      "outputs": [
        {
          "output_type": "stream",
          "name": "stdout",
          "text": [
            "[10 11 12 13 14 15 16 17 18 19 20 21 22 23 24 25 26 27 28 29 30 31 32 33\n",
            " 34 35 36 37 38 39 40 41 42 43 44 45 46 47 48 49 50 51 52 53 54 55 56 57\n",
            " 58]\n"
          ]
        }
      ],
      "source": [
        "x = np.arange(10, 59) # since upper limit is not included 59 is selected as upper limit\n",
        "print(x)"
      ],
      "id": "LvY2mw3g7qnq"
    },
    {
      "cell_type": "markdown",
      "metadata": {
        "id": "SMaalvhx7qnq"
      },
      "source": [
        "**6. Reverse the order of the values in the vector (first element becomes last)**"
      ],
      "id": "SMaalvhx7qnq"
    },
    {
      "cell_type": "code",
      "execution_count": null,
      "metadata": {
        "id": "4NXi_jen7qnr",
        "colab": {
          "base_uri": "https://localhost:8080/"
        },
        "outputId": "0997b9b1-368c-4c74-cb74-d6fb628138cc"
      },
      "outputs": [
        {
          "output_type": "execute_result",
          "data": {
            "text/plain": [
              "array([9, 8, 7, 6, 5, 4, 3, 2, 1, 0])"
            ]
          },
          "metadata": {},
          "execution_count": 14
        }
      ],
      "source": [
        "a = np.arange(10)\n",
        "# Include your solution below\n",
        "b=a[::-1]\n",
        "b"
      ],
      "id": "4NXi_jen7qnr"
    },
    {
      "cell_type": "markdown",
      "metadata": {
        "id": "nUIvyUsW7qns"
      },
      "source": [
        "**7. Create a 3x3 matrix with values ranging from 0 to 8**"
      ],
      "id": "nUIvyUsW7qns"
    },
    {
      "cell_type": "code",
      "execution_count": null,
      "metadata": {
        "id": "p1E-MnaE7qns",
        "colab": {
          "base_uri": "https://localhost:8080/"
        },
        "outputId": "f91291d2-de62-467a-c2fb-16f804dae2ad"
      },
      "outputs": [
        {
          "output_type": "stream",
          "name": "stdout",
          "text": [
            "[[0 1 2]\n",
            " [3 4 5]\n",
            " [6 7 8]]\n"
          ]
        }
      ],
      "source": [
        "m = np.arange(0, 9).reshape(3,3) # a linear array is created using arange command and then reshaped into a 3x3 matrix\n",
        "print(m)"
      ],
      "id": "p1E-MnaE7qns"
    },
    {
      "cell_type": "markdown",
      "metadata": {
        "id": "hneZwTxp7qns"
      },
      "source": [
        "**8. Create a 3x3 identity matrix**"
      ],
      "id": "hneZwTxp7qns"
    },
    {
      "cell_type": "code",
      "execution_count": null,
      "metadata": {
        "id": "Kgv1i0Fj7qnt",
        "colab": {
          "base_uri": "https://localhost:8080/"
        },
        "outputId": "d6f12e6f-96f6-448c-ee7b-6bb53f3989a2"
      },
      "outputs": [
        {
          "output_type": "stream",
          "name": "stdout",
          "text": [
            "our 3x3 identity matrix is:\n",
            "[[1. 0. 0.]\n",
            " [0. 1. 0.]\n",
            " [0. 0. 1.]]\n"
          ]
        }
      ],
      "source": [
        "array_2D=np.identity(3)\n",
        "print(\"our 3x3 identity matrix is:\")\n",
        "print(array_2D)\n"
      ],
      "id": "Kgv1i0Fj7qnt"
    },
    {
      "cell_type": "markdown",
      "metadata": {
        "id": "gnHqtN287qnt"
      },
      "source": [
        "**9. Find and print the maximum values of each column in the array below** "
      ],
      "id": "gnHqtN287qnt"
    },
    {
      "cell_type": "code",
      "execution_count": null,
      "metadata": {
        "id": "J-UUiaay7qnu",
        "colab": {
          "base_uri": "https://localhost:8080/"
        },
        "outputId": "9497e502-9cd7-4f74-c896-944f44093306"
      },
      "outputs": [
        {
          "output_type": "stream",
          "name": "stdout",
          "text": [
            "the Z matrix is: \n",
            " [[0.65666004 0.1582958  0.73785235 0.67356263 0.95354041 0.11932886\n",
            "  0.70338738 0.85993836 0.75723558 0.64875502 0.5764881 ]\n",
            " [0.15893396 0.57070485 0.6698914  0.00634071 0.11708033 0.95789111\n",
            "  0.65951283 0.11616443 0.37581182 0.22388511 0.57516109]\n",
            " [0.96587074 0.91259098 0.63135973 0.79197155 0.31680114 0.93201003\n",
            "  0.65342125 0.24678995 0.34268144 0.72450049 0.05296122]\n",
            " [0.44153216 0.69141031 0.27716719 0.07007707 0.57387158 0.84749506\n",
            "  0.46413493 0.83238423 0.20837572 0.72317493 0.21667609]\n",
            " [0.88473945 0.16673725 0.6709895  0.34980299 0.17007604 0.08687751\n",
            "  0.41629484 0.25521641 0.84312728 0.98256781 0.41519317]\n",
            " [0.55235375 0.03870539 0.82289542 0.72094127 0.07123314 0.97820889\n",
            "  0.8325606  0.74135065 0.7979968  0.01049323 0.23489941]\n",
            " [0.19466817 0.2714432  0.73019959 0.04653762 0.64463488 0.45555735\n",
            "  0.5678096  0.61977149 0.03788178 0.8075036  0.53678401]\n",
            " [0.19752961 0.08738487 0.50190314 0.56028199 0.62627572 0.96527558\n",
            "  0.27128302 0.29923363 0.56218436 0.14445908 0.56514699]\n",
            " [0.22089114 0.41261834 0.29314365 0.9617096  0.13468703 0.23539451\n",
            "  0.55813282 0.72432204 0.32527446 0.25784093 0.80301067]\n",
            " [0.56181318 0.65416042 0.55265329 0.02258823 0.01790982 0.28739053\n",
            "  0.27873132 0.02648493 0.21419761 0.54926706 0.42931763]]\n",
            "\n",
            "\n",
            "the maximums of each column are: \n",
            " [0.96587074 0.91259098 0.82289542 0.9617096  0.95354041 0.97820889\n",
            " 0.8325606  0.85993836 0.84312728 0.98256781 0.80301067]\n"
          ]
        }
      ],
      "source": [
        "Z= np.random.random((10,11)) \n",
        "print('the Z matrix is: \\n',Z)\n",
        "print ('\\n\\nthe maximums of each column are: \\n',np.max(Z,axis=0))\n"
      ],
      "id": "J-UUiaay7qnu"
    },
    {
      "cell_type": "markdown",
      "source": [
        "**10. Create a 7x7 array with 1s on the borders (first row and column, last row and columns) and 0s everywhere else**"
      ],
      "metadata": {
        "id": "YDUvAWf69yne"
      },
      "id": "YDUvAWf69yne"
    },
    {
      "cell_type": "code",
      "execution_count": null,
      "metadata": {
        "id": "IAh-_vsZ7qnv",
        "colab": {
          "base_uri": "https://localhost:8080/"
        },
        "outputId": "80287d33-8d70-43d4-a7e6-22eae793103e"
      },
      "outputs": [
        {
          "output_type": "execute_result",
          "data": {
            "text/plain": [
              "array([[1., 1., 1., 1., 1., 1., 1.],\n",
              "       [1., 0., 0., 0., 0., 0., 1.],\n",
              "       [1., 0., 0., 0., 0., 0., 1.],\n",
              "       [1., 0., 0., 0., 0., 0., 1.],\n",
              "       [1., 0., 0., 0., 0., 0., 1.],\n",
              "       [1., 0., 0., 0., 0., 0., 1.],\n",
              "       [1., 1., 1., 1., 1., 1., 1.]])"
            ]
          },
          "metadata": {},
          "execution_count": 23
        }
      ],
      "source": [
        "x = np.ones((7,7))#create a full array of ones\n",
        "x[1:-1,1:-1] = 0 #replace inner part of the array with  0\n",
        "x"
      ],
      "id": "IAh-_vsZ7qnv"
    },
    {
      "cell_type": "markdown",
      "metadata": {
        "id": "_6Ph2zqe7qnw"
      },
      "source": [
        "**11. Pad the existing array below with zeros (i.e., add additional rows and columns with zeros). Use the NumPy pad function.**"
      ],
      "id": "_6Ph2zqe7qnw"
    },
    {
      "cell_type": "code",
      "execution_count": null,
      "metadata": {
        "id": "ahczgaNH7qnx",
        "colab": {
          "base_uri": "https://localhost:8080/"
        },
        "outputId": "28de316b-4590-49b1-f059-6eb64b0bc9bb"
      },
      "outputs": [
        {
          "output_type": "execute_result",
          "data": {
            "text/plain": [
              "array([[0., 0., 0., 0., 0., 0., 0.],\n",
              "       [0., 1., 1., 1., 1., 1., 0.],\n",
              "       [0., 1., 1., 1., 1., 1., 0.],\n",
              "       [0., 1., 1., 1., 1., 1., 0.],\n",
              "       [0., 1., 1., 1., 1., 1., 0.],\n",
              "       [0., 1., 1., 1., 1., 1., 0.],\n",
              "       [0., 0., 0., 0., 0., 0., 0.]])"
            ]
          },
          "metadata": {},
          "execution_count": 24
        }
      ],
      "source": [
        "Z = np.ones((5,5))\n",
        "# Include your solution below\n",
        "np.pad(Z, 1, mode='constant')"
      ],
      "id": "ahczgaNH7qnx"
    },
    {
      "cell_type": "markdown",
      "metadata": {
        "id": "WHLtCAn37qnx"
      },
      "source": [
        "**12. Extract the integer part of the random array of positive numbers below**"
      ],
      "id": "WHLtCAn37qnx"
    },
    {
      "cell_type": "code",
      "execution_count": null,
      "metadata": {
        "id": "6HAOzb8s7qnx",
        "colab": {
          "base_uri": "https://localhost:8080/"
        },
        "outputId": "34de3832-4823-4c38-aa9c-291cf988e12a"
      },
      "outputs": [
        {
          "output_type": "execute_result",
          "data": {
            "text/plain": [
              "array([4., 2., 1., 9., 1., 1., 4., 6., 1., 6.])"
            ]
          },
          "metadata": {},
          "execution_count": 25
        }
      ],
      "source": [
        "Z = np.random.uniform(0,10,10)\n",
        "# Include your solution below\n",
        "np.floor(Z)"
      ],
      "id": "6HAOzb8s7qnx"
    },
    {
      "cell_type": "markdown",
      "metadata": {
        "id": "GQngLl5O7qny"
      },
      "source": [
        "**13. Create a 5x5 matrix with rows with equal values ranging from 0 to 4 (i.e., [0,1,2,3,4])**\n",
        "\n",
        "*Hint:* consider using NumPy broadcasting or the tile function*"
      ],
      "id": "GQngLl5O7qny"
    },
    {
      "cell_type": "code",
      "source": [
        "#since the question is not clear two alternatives are created\n",
        "#1 rows with similar values ranging from 0 to 4\n",
        "x = np.zeros((5,5))\n",
        "x += np.arange(5) #numpy broadcast is used \n",
        "print(x)\n",
        "#2 rows with same values ranging from 0 to 4\n",
        "print('\\n\\n',np.tile(np.arange(0,5).reshape(5,1),5)) #tile Constructs an array by repeating A the number of times"
      ],
      "metadata": {
        "id": "HHep1rmEDJJ7",
        "colab": {
          "base_uri": "https://localhost:8080/"
        },
        "outputId": "966a728f-46a7-4d62-d08a-0a0bf8af50fe"
      },
      "id": "HHep1rmEDJJ7",
      "execution_count": null,
      "outputs": [
        {
          "output_type": "stream",
          "name": "stdout",
          "text": [
            "[[0. 1. 2. 3. 4.]\n",
            " [0. 1. 2. 3. 4.]\n",
            " [0. 1. 2. 3. 4.]\n",
            " [0. 1. 2. 3. 4.]\n",
            " [0. 1. 2. 3. 4.]]\n",
            "\n",
            "\n",
            " [[0 0 0 0 0]\n",
            " [1 1 1 1 1]\n",
            " [2 2 2 2 2]\n",
            " [3 3 3 3 3]\n",
            " [4 4 4 4 4]]\n"
          ]
        }
      ]
    },
    {
      "cell_type": "markdown",
      "metadata": {
        "id": "v9ClVr7Y7qny"
      },
      "source": [
        "**14. Create a vector of size 10 with values ranging from 0 to 1 (0 and 1 not included)**\n",
        "\n",
        "*Hint: Consider using the linspace function*"
      ],
      "id": "v9ClVr7Y7qny"
    },
    {
      "cell_type": "code",
      "execution_count": null,
      "metadata": {
        "id": "FvdN1NTx7qny",
        "colab": {
          "base_uri": "https://localhost:8080/"
        },
        "outputId": "2ca07c30-b521-4704-e592-ad305906de47"
      },
      "outputs": [
        {
          "output_type": "stream",
          "name": "stdout",
          "text": [
            "[0.09090909 0.18181818 0.27272727 0.36363636 0.45454545 0.54545455\n",
            " 0.63636364 0.72727273 0.81818182 0.90909091]\n"
          ]
        }
      ],
      "source": [
        "f = np.linspace(0,1,12,endpoint=True)[1:-1]\n",
        "print(f)\n"
      ],
      "id": "FvdN1NTx7qny"
    },
    {
      "cell_type": "markdown",
      "metadata": {
        "id": "j6oQ4zzL7qnz"
      },
      "source": [
        "**15. Create a random vector of size 10 and sort it**"
      ],
      "id": "j6oQ4zzL7qnz"
    },
    {
      "cell_type": "code",
      "execution_count": null,
      "metadata": {
        "id": "SQYA_2xM7qnz",
        "colab": {
          "base_uri": "https://localhost:8080/"
        },
        "outputId": "7ea8a905-6b8f-4aa9-fcd7-98fdf9d22ae2"
      },
      "outputs": [
        {
          "output_type": "stream",
          "name": "stdout",
          "text": [
            "Original array:\n",
            "[6.41436947e-01 3.67390796e-01 3.97928589e-04 6.59082083e-01\n",
            " 7.50347599e-01 1.11399411e-03 5.49812040e-01 5.11239022e-01\n",
            " 6.35377287e-01 8.44382897e-01]\n",
            "\n",
            "Sorted array:\n",
            "[3.97928589e-04 1.11399411e-03 3.67390796e-01 5.11239022e-01\n",
            " 5.49812040e-01 6.35377287e-01 6.41436947e-01 6.59082083e-01\n",
            " 7.50347599e-01 8.44382897e-01]\n"
          ]
        }
      ],
      "source": [
        "a = np.random.random(10) \n",
        "print(\"Original array:\")\n",
        "print(a)\n",
        "a.sort()\n",
        "print(\"\\nSorted array:\")\n",
        "print(a)\n"
      ],
      "id": "SQYA_2xM7qnz"
    },
    {
      "cell_type": "markdown",
      "metadata": {
        "id": "T1op-kOh7qnz"
      },
      "source": [
        "**16. Consider the cartesian coordinates below (X and Y), convert them to polar coordinates (R and T)**"
      ],
      "id": "T1op-kOh7qnz"
    },
    {
      "cell_type": "code",
      "execution_count": null,
      "metadata": {
        "id": "TQK1mUTE7qn0",
        "colab": {
          "base_uri": "https://localhost:8080/"
        },
        "outputId": "265e2e4e-8c96-47d1-ed47-a8fe2e905eaa"
      },
      "outputs": [
        {
          "output_type": "stream",
          "name": "stdout",
          "text": [
            "[0.81969515 1.0049258  1.32549977 0.23467606 1.14693328 0.23845154\n",
            " 1.26993073 1.04471881 0.19657109 0.90403808] [0.89295327 1.21910364 0.83811084 1.51443572 1.05179543 0.87082854\n",
            " 0.69761534 0.53021378 0.60020827 1.46944436]\n"
          ]
        }
      ],
      "source": [
        "Z = np.random.random((10,2))\n",
        "X,Y = Z[:,0], Z[:,1]\n",
        "# Include your solution below\n",
        "R = np.sqrt(X**2 + Y**2)\n",
        "T = np.arctan2(Y, X)\n",
        "print(R, T)\n"
      ],
      "id": "TQK1mUTE7qn0"
    },
    {
      "cell_type": "markdown",
      "metadata": {
        "id": "hk6ctVzY7qn0"
      },
      "source": [
        "**17. Create random vector of size 10 and replace the maximum value by 0**"
      ],
      "id": "hk6ctVzY7qn0"
    },
    {
      "cell_type": "code",
      "execution_count": null,
      "metadata": {
        "id": "pz8-Zip07qn1",
        "colab": {
          "base_uri": "https://localhost:8080/"
        },
        "outputId": "8c9d2ca9-d477-4dd1-cea5-f6c2a684c5b3"
      },
      "outputs": [
        {
          "output_type": "stream",
          "name": "stdout",
          "text": [
            "Original array: [0.37377334 0.34478234 0.69326893 0.59633396 0.37161998 0.91037244\n",
            " 0.74103415 0.11521876 0.06743324 0.45141402]\n",
            "\n",
            "with max replaced by 0: \n",
            " [0.37377334 0.34478234 0.69326893 0.59633396 0.37161998 0.\n",
            " 0.74103415 0.11521876 0.06743324 0.45141402]\n"
          ]
        }
      ],
      "source": [
        "x = np.random.random(10)\n",
        "print('Original array:', x)\n",
        "x[x.argmax()] = 0\n",
        "print('\\nwith max replaced by 0: \\n',x)"
      ],
      "id": "pz8-Zip07qn1"
    },
    {
      "cell_type": "markdown",
      "metadata": {
        "id": "UkQovfAP7qn1"
      },
      "source": [
        "**18. Find the nearest value from a given value (z) in an array (Z)**"
      ],
      "id": "UkQovfAP7qn1"
    },
    {
      "cell_type": "code",
      "execution_count": null,
      "metadata": {
        "id": "6XgRbDQo7qn1",
        "colab": {
          "base_uri": "https://localhost:8080/"
        },
        "outputId": "89d86d4e-9827-4b7d-d817-81bf7fde9ad8"
      },
      "outputs": [
        {
          "output_type": "stream",
          "name": "stdout",
          "text": [
            "nearest value to z=0.500000 is 0.457535 with index 2\n",
            "\n",
            "\n",
            " [0.00702211 0.59544403 0.45753453 0.62825398 0.84931413 0.21292643\n",
            " 0.71477833 0.01059857 0.56290361 0.90593844]\n"
          ]
        }
      ],
      "source": [
        "Z = np.random.uniform(0,1,10)\n",
        "z = 0.5\n",
        "# Include your solution below\n",
        "diff=np.absolute(Z-z) # differences between target value and array members is calculated\n",
        "print('nearest value to z=%f is %f with index %d'%(z,Z[np.argmin(diff)],np.argmin(diff))) #the index of min is extracted to locate the number in array Z\n",
        "print('\\n\\n',Z)"
      ],
      "id": "6XgRbDQo7qn1"
    },
    {
      "cell_type": "markdown",
      "metadata": {
        "id": "UsHZuBBO7qn2"
      },
      "source": [
        "**19. Consider the vector [5, 4, 3, 2, 1], how to build a new vector with 3 consecutive zeros interleaved between each value?**"
      ],
      "id": "UsHZuBBO7qn2"
    },
    {
      "cell_type": "code",
      "execution_count": null,
      "metadata": {
        "id": "rF3YnF5P7qn2",
        "colab": {
          "base_uri": "https://localhost:8080/"
        },
        "outputId": "62ad5bf9-605d-4e43-c2b2-3d0cd4eb73f1"
      },
      "outputs": [
        {
          "output_type": "stream",
          "name": "stdout",
          "text": [
            "[5. 0. 0. 0. 4. 0. 0. 0. 3. 0. 0. 0. 2. 0. 0. 0. 1.]\n"
          ]
        }
      ],
      "source": [
        "Z = np.arange(6)[:0:-1]\n",
        "# Include your solution below\n",
        "nz = 3 \n",
        "Z0 = np.zeros(len(Z) + (len(Z)-1)*(nz))\n",
        "Z0[::nz+1] = Z\n",
        "print(Z0)"
      ],
      "id": "rF3YnF5P7qn2"
    },
    {
      "cell_type": "markdown",
      "metadata": {
        "id": "QD1gu8Xh7qn2"
      },
      "source": [
        "**20. Consider an array of dimension (5,5,3), how to mulitply it element-wise by an array with dimensions (5,5) - i.e., (5,5,0)$\\times$(5,5), (5,5,1)$\\times$(5,5), (5,5,2)$\\times$(5,5)**"
      ],
      "id": "QD1gu8Xh7qn2"
    },
    {
      "cell_type": "code",
      "execution_count": null,
      "metadata": {
        "id": "bIVcrK0D7qn3",
        "colab": {
          "base_uri": "https://localhost:8080/"
        },
        "outputId": "bcf1e423-94e7-4919-f33c-8f10d78d6c20"
      },
      "outputs": [
        {
          "output_type": "stream",
          "name": "stdout",
          "text": [
            "[[[2. 2. 2.]\n",
            "  [2. 2. 2.]\n",
            "  [2. 2. 2.]\n",
            "  [2. 2. 2.]\n",
            "  [2. 2. 2.]]\n",
            "\n",
            " [[2. 2. 2.]\n",
            "  [2. 2. 2.]\n",
            "  [2. 2. 2.]\n",
            "  [2. 2. 2.]\n",
            "  [2. 2. 2.]]\n",
            "\n",
            " [[2. 2. 2.]\n",
            "  [2. 2. 2.]\n",
            "  [2. 2. 2.]\n",
            "  [2. 2. 2.]\n",
            "  [2. 2. 2.]]\n",
            "\n",
            " [[2. 2. 2.]\n",
            "  [2. 2. 2.]\n",
            "  [2. 2. 2.]\n",
            "  [2. 2. 2.]\n",
            "  [2. 2. 2.]]\n",
            "\n",
            " [[2. 2. 2.]\n",
            "  [2. 2. 2.]\n",
            "  [2. 2. 2.]\n",
            "  [2. 2. 2.]\n",
            "  [2. 2. 2.]]]\n"
          ]
        }
      ],
      "source": [
        "A = np.ones((5,5,3))\n",
        "B = 2*np.ones((5,5))\n",
        "# Include your solution below\n",
        "print(A * B[:,:,None]) #a third dimension is added to the matrix B \n"
      ],
      "id": "bIVcrK0D7qn3"
    },
    {
      "cell_type": "markdown",
      "metadata": {
        "id": "F7touPKO7qn3"
      },
      "source": [
        "**21. Swap the first and second rows of the 2D array below**"
      ],
      "id": "F7touPKO7qn3"
    },
    {
      "cell_type": "code",
      "execution_count": null,
      "metadata": {
        "id": "Fceoma-p7qn3",
        "colab": {
          "base_uri": "https://localhost:8080/"
        },
        "outputId": "ec4fd099-0eb3-4ca1-aaa0-adb70ab8d0c8"
      },
      "outputs": [
        {
          "output_type": "stream",
          "name": "stdout",
          "text": [
            "original array: \n",
            " [[ 0  1  2  3  4]\n",
            " [ 5  6  7  8  9]\n",
            " [10 11 12 13 14]\n",
            " [15 16 17 18 19]\n",
            " [20 21 22 23 24]\n",
            " [25 26 27 28 29]]\n",
            "\n",
            "array with replaced rows: \n",
            " [[ 5  6  7  8  9]\n",
            " [ 0  1  2  3  4]\n",
            " [10 11 12 13 14]\n",
            " [15 16 17 18 19]\n",
            " [20 21 22 23 24]\n",
            " [25 26 27 28 29]]\n"
          ]
        }
      ],
      "source": [
        "\n",
        "W = np.arange(30).reshape(6,5)\n",
        "print('original array: \\n',W)\n",
        "print()\n",
        "W[[0, 1]] = W[[1, 0]]\n",
        "print('array with replaced rows: \\n',W)\n"
      ],
      "id": "Fceoma-p7qn3"
    },
    {
      "cell_type": "markdown",
      "metadata": {
        "id": "RDn6UmUa7qn4"
      },
      "source": [
        "**22. Write a function that receives as input a 2D Boolean NumPy array and outputs the coordinates of the minimal bounding-box\n",
        "that encloses all non-zero elements in the input array**\n",
        "\n",
        "**Tip:** search for the functions nonzero and where in the NumPy documentation.\n",
        "\n",
        "\n",
        "<img src=\"https://github.com/Deabae/ENEL645-GP10/blob/master/Figures/bbox.png?raw=1\" width=\"150\" /> "
      ],
      "id": "RDn6UmUa7qn4"
    },
    {
      "cell_type": "code",
      "execution_count": null,
      "metadata": {
        "id": "D7qBJIps7qn5",
        "colab": {
          "base_uri": "https://localhost:8080/",
          "height": 286
        },
        "outputId": "7fe27a6d-98d5-4cd5-8965-0ed6aff75b5c"
      },
      "outputs": [
        {
          "output_type": "display_data",
          "data": {
            "image/png": "[encoded data removed]",
            "text/plain": [
              "<Figure size 432x288 with 1 Axes>"
            ]
          },
          "metadata": {
            "needs_background": "light"
          }
        },
        {
          "output_type": "stream",
          "name": "stdout",
          "text": [
            "((29, 50), (342, 431))\n"
          ]
        }
      ],
      "source": [
        "import matplotlib.patches as patches\n",
        "\n",
        "def bbox(img):\n",
        "  #include your solution below\n",
        "  rows = np.any(img, axis=1)\n",
        "  cols = np.any(img, axis=0)\n",
        "  r1, r2 = np.where(rows)[0][[0, -1]]\n",
        "  c1, c2 = np.where(cols)[0][[0, -1]]\n",
        "  fig,ax=plt.subplots()\n",
        "  ax.imshow(img, interpolation='nearest')\n",
        "  rect = patches.Rectangle((c1,r1), c2-c1,r2-r1,  linewidth=1, edgecolor='r', facecolor='none')\n",
        "  ax.add_patch(rect)\n",
        "  plt.show()\n",
        "  return (r1,c1),(r2,c2)\n",
        "\n",
        "from PIL import Image\n",
        "img = np.array(Image.open('/bin_image.png').convert('L')) > 0\n",
        "print(bbox(img))"
      ],
      "id": "D7qBJIps7qn5"
    },
    {
      "cell_type": "markdown",
      "metadata": {
        "id": "7BWs8A797qn5"
      },
      "source": [
        "**23.Write a function to compute the average over a sliding window of length N over a 1D array?**\n",
        "\n",
        "*Example:* [1,2,3,4,5,6,7,8,9], N = 3 -> [2,5,8]"
      ],
      "id": "7BWs8A797qn5"
    },
    {
      "cell_type": "code",
      "execution_count": null,
      "metadata": {
        "id": "Y03qZvvT7qn6"
      },
      "outputs": [],
      "source": [
        "def moving_average(x,N = 3):\n",
        "    #define your function here\n",
        "    win=np.lib.stride_tricks.sliding_window_view(x,N,axis=(0,))[::3,:] \n",
        "      # numpy siliding_window is used to generate different views of the array, since it moves the window one-by-one and interval of 3 is selected\n",
        "      # sliding_window_view function is added in Numpy version 1.20.0.\n",
        "    S=np.sum(win,axis=1) #sum is calculated for each window \n",
        "    MA=S/N  #average is calculated by dividing the sum by number of members\n",
        "    #print(MA)\n",
        "    return MA\n",
        "\n",
        "a = np.arange(30)\n",
        "N = 3\n",
        "#print(moving_average(a,N))\n",
        "print(moving_average(a,N))"
      ],
      "id": "Y03qZvvT7qn6"
    },
    {
      "cell_type": "markdown",
      "metadata": {
        "id": "VQR1JAuT7qn6"
      },
      "source": [
        "**24.  Given a sorted 1D array C that corresponds to a bincount, how to produce an array A such that np.bincount(A) == C?**\n",
        "\n",
        "*Example:* C = [3,2,4] -> D = [0,0,0,1,1,2,2,2,2]\n",
        "\n",
        "*Tip:* Consider using the NumPy repeat function"
      ],
      "id": "VQR1JAuT7qn6"
    },
    {
      "cell_type": "code",
      "execution_count": null,
      "metadata": {
        "id": "D2vC6lmc7qn6",
        "colab": {
          "base_uri": "https://localhost:8080/"
        },
        "outputId": "c0d1cce7-1a05-4a29-f27d-4801e8095a9a"
      },
      "outputs": [
        {
          "output_type": "stream",
          "name": "stdout",
          "text": [
            "bincount array C: \n",
            " [0 2 1 1 2 0 1]\n",
            "\n",
            "A:\n",
            " [1 1 2 3 4 4 6]\n"
          ]
        }
      ],
      "source": [
        "C = np.bincount([1,1,2,3,4,4,6])\n",
        "print('bincount array C: \\n', C)\n",
        "# Include yoru solution here\n",
        "print('\\nA:\\n',np.repeat(np.arange(C.size),C)) #repeat function is used to repeat each member of an array (genertaed by arange) as many times as declared by C"
      ],
      "id": "D2vC6lmc7qn6"
    },
    {
      "cell_type": "markdown",
      "metadata": {
        "id": "kLaSNJTP7qn7"
      },
      "source": [
        "**25. Find the most frequent value in the array below?**"
      ],
      "id": "kLaSNJTP7qn7"
    },
    {
      "cell_type": "code",
      "execution_count": null,
      "metadata": {
        "id": "pWG9rYVG7qn7",
        "colab": {
          "base_uri": "https://localhost:8080/"
        },
        "outputId": "867d54fa-879a-4677-c9bb-34c38a107f94"
      },
      "outputs": [
        {
          "output_type": "stream",
          "name": "stdout",
          "text": [
            "[4 9 7 6 6 2 6 0 3 5 3 7 4 8 5 1 5 7 1 7 2 2 6 5 6 1 9 5 1 0 1 3 1 5 4 2 1\n",
            " 5 2 4 4 0 2 6 9 9 7 8 5 0]\n",
            "Most Frequent Value: 5\n"
          ]
        }
      ],
      "source": [
        "Z = np.random.randint(0,10,50)\n",
        "# Include your solution below\n",
        "print (Z)\n",
        "print('Most Frequent Value:', np.bincount(Z).argmax()) #bincount is used to count the number of occurances and argmax is used to export the index "
      ],
      "id": "pWG9rYVG7qn7"
    },
    {
      "cell_type": "markdown",
      "metadata": {
        "id": "H1SvgStu7qn7"
      },
      "source": [
        "**26. Write a function to return the n largest values of an array** "
      ],
      "id": "H1SvgStu7qn7"
    },
    {
      "cell_type": "code",
      "execution_count": null,
      "metadata": {
        "id": "3Wdw3q7e7qn7",
        "colab": {
          "base_uri": "https://localhost:8080/"
        },
        "outputId": "0c7f3e49-245f-439b-ca3c-1165a14c21e6"
      },
      "outputs": [
        {
          "output_type": "stream",
          "name": "stdout",
          "text": [
            "[9995 9996 9997 9998 9999]\n"
          ]
        }
      ],
      "source": [
        "def nlargest(a,n = 5):\n",
        "    # Include your solution here\n",
        "    return Z[np.argsort(Z)[-n:]] #indices of highest values are first indicated and the original values are exported from Z\n",
        "\n",
        "Z = np.arange(10000)\n",
        "np.random.shuffle(Z)\n",
        "n = 5\n",
        "print(nlargest(Z,n))    "
      ],
      "id": "3Wdw3q7e7qn7"
    }
  ],
  "metadata": {
    "kernelspec": {
      "display_name": "Python 3",
      "language": "python",
      "name": "python3"
    },
    "language_info": {
      "codemirror_mode": {
        "name": "ipython",
        "version": 3
      },
      "file_extension": ".py",
      "mimetype": "text/x-python",
      "name": "python",
      "nbconvert_exporter": "python",
      "pygments_lexer": "ipython3",
      "version": "3.8.5"
    },
    "colab": {
      "name": "GP10 - Assignment 01.ipynb",
      "provenance": [],
      "collapsed_sections": []
    }
  },
  "nbformat": 4,
  "nbformat_minor": 5
}